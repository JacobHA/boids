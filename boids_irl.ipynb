{
 "cells": [
  {
   "cell_type": "markdown",
   "metadata": {},
   "source": [
    "## Preparations\n",
    "\n",
    "First off, the imports: We need the usual external dependencies for calcualtion and plotting:"
   ]
  },
  {
   "cell_type": "code",
   "execution_count": 3,
   "metadata": {},
   "outputs": [],
   "source": [
    "import numpy as np\n",
    "import matplotlib.pyplot as plt\n",
    "from mpl_toolkits.axes_grid1 import make_axes_locatable\n",
    "from itertools import product               # Cartesian product for iterators\n",
    "save_name = 'gen5'\n",
    "import os\n",
    "os.makedirs(save_name, exist_ok=True)"
   ]
  },
  {
   "cell_type": "markdown",
   "metadata": {},
   "source": [
    "and our framework to hide the boring stuff:"
   ]
  },
  {
   "cell_type": "code",
   "execution_count": 4,
   "metadata": {},
   "outputs": [],
   "source": [
    "# allow us to re-use the framework from the src directory\n",
    "import sys, os\n",
    "sys.path.append(os.path.abspath(os.path.join('../src/irl_maxent')))\n",
    "\n",
    "import gridworld as W                       # basic grid-world MDPs\n",
    "import trajectory as T                      # trajectory generation\n",
    "import optimizer as O                       # stochastic gradient descent optimizer\n",
    "import solver as S                          # MDP solver (value-iteration)\n",
    "import plot as P                            # helper-functions for plotting"
   ]
  },
  {
   "cell_type": "markdown",
   "metadata": {},
   "source": [
    "Let's also use interactive javascript-based plots and pre-define a global style for plotting:"
   ]
  },
  {
   "cell_type": "code",
   "execution_count": 5,
   "metadata": {},
   "outputs": [],
   "source": [
    "#%matplotlib widget\n",
    "plt.rcParams['figure.figsize'] = [9, 5]     # set default figure size\n",
    "style = {                                   # global style for plots\n",
    "    'border': {'color': 'red', 'linewidth': 0.5},\n",
    "}"
   ]
  },
  {
   "cell_type": "code",
   "execution_count": 6,
   "metadata": {},
   "outputs": [],
   "source": [
    "def setup_mdp():\n",
    "    # create our world\n",
    "    world = W.BirdWorld(width=7, height=8)\n",
    "\n",
    "    # set up the reward function\n",
    "    reward = np.zeros(world.n_states)\n",
    "    # reward[-1] = 1.0\n",
    "    # reward[8] = 0.65\n",
    "\n",
    "    # set up terminal states\n",
    "    terminal = [2]\n",
    "\n",
    "    return world, reward, terminal\n",
    "\n",
    "# set-up the GridWorld Markov Decision Process\n",
    "world, reward, terminal = setup_mdp()"
   ]
  },
  {
   "cell_type": "code",
   "execution_count": 7,
   "metadata": {},
   "outputs": [],
   "source": [
    "from data_loader import get_all_trajectories\n",
    "# data = load_data('action_space.csv')\n",
    "trajectories = get_all_trajectories()"
   ]
  },
  {
   "cell_type": "code",
   "execution_count": 8,
   "metadata": {},
   "outputs": [],
   "source": [
    "# fig = plt.figure()\n",
    "# ax = fig.add_subplot(121)\n",
    "# ax.title.set_text('Original Reward')\n",
    "# divider = make_axes_locatable(ax)\n",
    "# cax = divider.append_axes('right', size='5%', pad=0.05)\n",
    "# p = P.plot_state_values(ax, world, reward, **style)\n",
    "# fig.colorbar(p, cax=cax)\n",
    "\n",
    "# ax = fig.add_subplot(122)\n",
    "# ax.title.set_text('Expert Policy and Trajectories')\n",
    "# divider = make_axes_locatable(ax)\n",
    "# cax = divider.append_axes('right', size='5%', pad=0.05)\n",
    "# # p = P.plot_stochastic_policy(ax, world, expert_policy, **style)\n",
    "# fig.colorbar(p, cax=cax)\n",
    "\n",
    "# # for t in trajectories:\n",
    "# #     P.plot_trajectory(ax, world, t, lw=5, color='white', alpha=0.025)\n",
    "\n",
    "# fig.tight_layout()\n",
    "# # plt.savefig('expert_trajectories.png')\n",
    "# plt.show()"
   ]
  },
  {
   "cell_type": "markdown",
   "metadata": {},
   "source": [
    "With that done, we have all the prequisites we need to run the actual algorithm."
   ]
  },
  {
   "cell_type": "code",
   "execution_count": 9,
   "metadata": {},
   "outputs": [],
   "source": [
    "def feature_expectation_from_trajectories(features, trajectories):\n",
    "    n_states, n_features = features.shape\n",
    "\n",
    "    fe = np.zeros(n_features)\n",
    "\n",
    "    for t in trajectories:                  # for each trajectory\n",
    "        for s in t.states():                # for each state in trajectory\n",
    "            fe += features[s, :]            # sum-up features\n",
    "\n",
    "    return fe / len(trajectories)           # average over trajectories"
   ]
  },
  {
   "cell_type": "code",
   "execution_count": 10,
   "metadata": {},
   "outputs": [],
   "source": [
    "def initial_probabilities_from_trajectories(n_states, trajectories):\n",
    "    p = np.zeros(n_states)\n",
    "\n",
    "    for t in trajectories:                  # for each trajectory\n",
    "        p[t.transitions()[0][0]] += 1.0     # increment starting state\n",
    "\n",
    "    return p / len(trajectories)            # normalize"
   ]
  },
  {
   "cell_type": "markdown",
   "metadata": {},
   "source": [
    "With that we're ready to look at the algorithm computing the expected state visitation frequency (this is Algorithm 1 in the Maximum Entropy IRL paper by Ziebart et al. [\\[Ziebart et al. 2008\\]](#References)).\n",
    "As already mentioned above, this algorithm consists of two parts: A backward pass computing the local action probabilities $\\pi(a \\mid s, \\omega)$ and a forward pass computing the state visitation frequencies $D_{s_i}$ from those.\n",
    "\n",
    "For the **backward-pass** we recursively back-up from terminal states (initialized with $Z_{s_i} = 1$), computing the state and state-action partition functions $Z_{s_i}$ and $Z_{s_i, a_j}$.\n",
    "When we have those, we can compute the local action probability using $\\pi(a_j \\mid s_i, \\omega)$.\n",
    "A technical issue we stumble accross here, is that this process does not converge.\n",
    "To this end, we choose to run $2 \\cdot |S|$ iterations, as this ensures the maximum trajectory length is covered ($|S|$) and we have some slack.\n",
    "As explained previously, the equations we need for this are\n",
    "\n",
    "$$\n",
    "    \\pi(a_j \\mid s_i, \\omega) = \\frac{Z_{s_i, a_j}}{Z_{s_j}}\n",
    "    ,\\quad\n",
    "    Z_{s_i, a_j} = \\sum_{k} p(s_k \\mid s_i, a_j)\\, \\exp \\left(\\omega^\\top \\phi(s_i)\\right)\\, Z_{s_k}\n",
    "    ,\\quad\n",
    "    Z_{s_i} = \\sum_{a_j} Z_{s_i, a_j}.\n",
    "$$\n",
    "\n",
    "For the **forward-pass** we initialize the state-visitation frequency with the probability of a state being a starting-point (`p_initial` $= p(s_0)$).\n",
    "To compute the state-visitation-frequency for another state, we just sum up the transition probabilities of (direct) transitions to this other state multiplied by the state-visitation frequency of the origin-state of this transition, resulting in a forward-propagation of state-visitation frequencies.\n",
    "Also, we only consider transitions originating in non-terminal states.\n",
    "Expressed as formula, we iteratively compute\n",
    "\n",
    "$$\n",
    "    D_{s_k, t + 1}\n",
    "    = \\sum_{s_i \\in S_{\\text{nt}}} \\sum_{a_j \\in A} D_{s_i, t} \\; \\pi(a_j \\mid s_i) \\; p(s_k \\mid s_i, a_j)\n",
    "$$\n",
    "\n",
    "and then sum this up over all time-steps $t$ for the final result.\n",
    "Again, we run $2 \\cdot |S|$ iterations, altough this algorithm can also be modified for convergence (see `expected_svf_from_policy(...)` in the accompanying code)."
   ]
  },
  {
   "cell_type": "code",
   "execution_count": 11,
   "metadata": {},
   "outputs": [],
   "source": [
    "def compute_expected_svf(p_transition, p_initial, terminal, reward, eps=1e-5):\n",
    "    n_states, _, n_actions = p_transition.shape\n",
    "    nonterminal = set(range(n_states)) - set(terminal)  # nonterminal states\n",
    "    \n",
    "    # Backward Pass\n",
    "    # 1. initialize at terminal states\n",
    "    zs = np.zeros(n_states)                             # zs: state partition function\n",
    "    zs[terminal] = 1.0\n",
    "\n",
    "    # 2. perform backward pass\n",
    "    for _ in range(2 * n_states):                       # longest trajectory: n_states\n",
    "        # reset action values to zero\n",
    "        za = np.zeros((n_states, n_actions))            # za: action partition function\n",
    "\n",
    "        # for each state-action pair\n",
    "        for s_from, a in product(range(n_states), range(n_actions)):\n",
    "\n",
    "            # sum over s_to\n",
    "            for s_to in range(n_states):\n",
    "                za[s_from, a] += p_transition[s_from, s_to, a] * np.exp(reward[s_from]) * zs[s_to]\n",
    "        \n",
    "        # sum over all actions\n",
    "        zs = za.sum(axis=1)\n",
    "\n",
    "    # 3. compute local action probabilities\n",
    "    p_action = za / zs[:, None]\n",
    "\n",
    "    # Forward Pass\n",
    "    # 4. initialize with starting probability\n",
    "    d = np.zeros((n_states, 2 * n_states))              # d: state-visitation frequencies\n",
    "    d[:, 0] = p_initial\n",
    "\n",
    "    # 5. iterate for N steps\n",
    "    for t in range(1, 2 * n_states):                    # longest trajectory: n_states\n",
    "        \n",
    "        # for all states\n",
    "        for s_to in range(n_states):\n",
    "            \n",
    "            # sum over nonterminal state-action pairs\n",
    "            for s_from, a in product(nonterminal, range(n_actions)):\n",
    "                d[s_to, t] += d[s_from, t-1] * p_action[s_from, a] * p_transition[s_from, s_to, a]\n",
    "\n",
    "    # 6. sum-up frequencies\n",
    "    return d.sum(axis=1)"
   ]
  },
  {
   "cell_type": "markdown",
   "metadata": {},
   "source": [
    "Now we can look at the core algorithm:\n",
    "First, we compute the feature expectation $\\mathbb{E}_{\\pi^E} \\left[ \\phi(\\tau) \\right]$ and starting-state probabilities using the functions defined above.\n",
    "Those are static, so we only need to compute them once before we start optimizing.\n",
    "After this, we initialize our parameters $\\omega$ and then iteratively perform optimization-steps until convergence is reached.\n",
    "For each optimization-step, we compute the gradient\n",
    "\n",
    "$$\n",
    "    \\nabla_\\omega \\mathcal{L}(\\omega)\n",
    "    = \\mathbb{E}_{\\pi^E} \\left[ \\phi(\\tau) \\right] - \\sum_{s_i} D_{s_i} \\phi(s_i),\n",
    "$$\n",
    "\n",
    "using the function above to get the expected state-visitation frequency $D_{s_i}$ from our current recovered reward $R(s_i) = \\omega^\\top \\phi(s_i)$."
   ]
  },
  {
   "cell_type": "code",
   "execution_count": 12,
   "metadata": {},
   "outputs": [],
   "source": [
    "def maxent_irl(p_transition, features, terminal, trajectories, optim, init, eps=1e-4):\n",
    "    n_states, _, n_actions = p_transition.shape\n",
    "    _, n_features = features.shape\n",
    "\n",
    "    # compute feature expectation from trajectories\n",
    "    e_features = feature_expectation_from_trajectories(features, trajectories)\n",
    "    \n",
    "    # compute starting-state probabilities from trajectories\n",
    "    p_initial = initial_probabilities_from_trajectories(n_states, trajectories)\n",
    "\n",
    "    # gradient descent optimization\n",
    "    omega = init(n_features)        # initialize our parameters\n",
    "    delta = np.inf                  # initialize delta for convergence check\n",
    "\n",
    "    optim.reset(omega)              # re-start optimizer\n",
    "    iter = 0                        # iteration counter\n",
    "    while delta > eps:              # iterate until convergence\n",
    "        omega_old = omega.copy()\n",
    "\n",
    "        # compute per-state reward from features\n",
    "        reward = features.dot(omega)\n",
    "\n",
    "        # compute gradient of the log-likelihood\n",
    "        e_svf = compute_expected_svf(p_transition, p_initial, terminal, reward)\n",
    "        grad = e_features - features.T.dot(e_svf)\n",
    "\n",
    "        # perform optimization step and compute delta for convergence\n",
    "        optim.step(grad)\n",
    "        \n",
    "        # re-compute delta for convergence check\n",
    "        delta = np.max(np.abs(omega_old - omega))\n",
    "        print(f'{iter:4d} | {delta:.6f}', end='\\r', flush=True)\n",
    "        iter += 1\n",
    "\n",
    "        fig = plt.figure()\n",
    "        ax = fig.add_subplot(111)\n",
    "        ax.title.set_text('Recovered Reward')\n",
    "        divider = make_axes_locatable(ax)\n",
    "        cax = divider.append_axes('right', size='5%', pad=0.05)\n",
    "        p = P.plot_state_values(ax, world, reward, **style)\n",
    "        # P.plot_deterministic_policy(ax, world, S.optimal_policy(world, reward_maxent, 0.8), color='red')\n",
    "        fig.colorbar(p, cax=cax)\n",
    "\n",
    "        fig.tight_layout()\n",
    "        plt.savefig(f'{save_name}/recovered_reward_{iter}.png')\n",
    "        plt.close()\n",
    "        # Break nicely:\n",
    "        if iter > 20:\n",
    "            break\n",
    "\n",
    "\n",
    "    # re-compute per-state reward and return\n",
    "    return features.dot(omega)"
   ]
  },
  {
   "cell_type": "markdown",
   "metadata": {},
   "source": [
    "We've defined everything we need, so we can now finally run the algorithm.\n",
    "For that, we first get our feature-mapping: We're using one-hot vectors here, so our features are a set of orthogonal vectors, one per state.\n",
    "We select an initialization strategy for our parameters:, specifically we just set them all to one, and we choose exponentiated gradient ascent an optimizer [\\[Kivinen et. al. 1997\\]](#References).\n",
    "All of those parameters can, of course, be tuned and adapted to the scenario."
   ]
  },
  {
   "cell_type": "code",
   "execution_count": 13,
   "metadata": {},
   "outputs": [
    {
     "name": "stdout",
     "output_type": "stream",
     "text": [
      "  20 | 0.007284\r"
     ]
    }
   ],
   "source": [
    "# set up features: we use one feature vector per state\n",
    "features = W.state_features(world)\n",
    "\n",
    "# choose our parameter initialization strategy:\n",
    "#   initialize parameters with constant\n",
    "init = O.Constant(1.0)\n",
    "\n",
    "# choose our optimization strategy:\n",
    "#   we select exponentiated stochastic gradient descent with linear learning-rate decay\n",
    "# O.linear_decay(lr0=0.06)\n",
    "optim = O.ExpSga(lr=0.6)\n",
    "\n",
    "# actually do some inverse reinforcement learning\n",
    "reward_maxent = maxent_irl(world.p_transition, features, terminal, trajectories, optim, init, eps=1e-4)"
   ]
  },
  {
   "cell_type": "markdown",
   "metadata": {},
   "source": [
    "Now let's look at our results and compare them to the original reward.\n",
    "Also show the optimal policies derived from both reward functions."
   ]
  },
  {
   "cell_type": "code",
   "execution_count": 14,
   "metadata": {},
   "outputs": [
    {
     "data": {
      "image/png": "[encoded data removed]",
      "text/plain": [
       "<Figure size 900x500 with 4 Axes>"
      ]
     },
     "metadata": {},
     "output_type": "display_data"
    }
   ],
   "source": [
    "# style['cmap'] = 'coolwarm\n",
    "# color map with red to green:\n",
    "style['cmap'] = 'RdYlGn'\n",
    "fig = plt.figure()\n",
    "ax = fig.add_subplot(121)\n",
    "ax.title.set_text('Original Reward')\n",
    "divider = make_axes_locatable(ax)\n",
    "cax = divider.append_axes('right', size='5%', pad=0.05)\n",
    "p = P.plot_state_values(ax, world, reward, **style)\n",
    "# P.plot_deterministic_policy(ax, world, S.optimal_policy(world, reward, 0.8), color='red')\n",
    "fig.colorbar(p, cax=cax)\n",
    "\n",
    "ax = fig.add_subplot(122)\n",
    "ax.title.set_text('Recovered Reward')\n",
    "divider = make_axes_locatable(ax)\n",
    "cax = divider.append_axes('right', size='5%', pad=0.05)\n",
    "reward_maxent -= reward_maxent.mean()\n",
    "p = P.plot_state_values(ax, world, reward_maxent, **style)\n",
    "# P.plot_deterministic_policy(ax, world, S.optimal_policy(world, reward_maxent, 0.8), color='red')\n",
    "fig.colorbar(p, cax=cax)\n",
    "\n",
    "fig.tight_layout()\n",
    "plt.savefig(f'{save_name}/recovered_reward.png')\n",
    "plt.show()"
   ]
  },
  {
   "cell_type": "markdown",
   "metadata": {},
   "source": [
    "We can also compare the feature-expectation:"
   ]
  },
  {
   "cell_type": "code",
   "execution_count": 15,
   "metadata": {},
   "outputs": [
    {
     "data": {
      "image/png": "[encoded data removed]",
      "text/plain": [
       "<Figure size 900x500 with 4 Axes>"
      ]
     },
     "metadata": {},
     "output_type": "display_data"
    }
   ],
   "source": [
    "# Note: this code will only work with one feature per state\n",
    "p_initial = initial_probabilities_from_trajectories(world.n_states, trajectories)\n",
    "e_svf = compute_expected_svf(world.p_transition, p_initial, terminal, reward_maxent)\n",
    "e_features = feature_expectation_from_trajectories(features, trajectories)\n",
    "\n",
    "fig = plt.figure()\n",
    "ax = fig.add_subplot(121)\n",
    "ax.title.set_text('Trajectory Feature Expectation')\n",
    "divider = make_axes_locatable(ax)\n",
    "cax = divider.append_axes('right', size='5%', pad=0.05)\n",
    "p = P.plot_state_values(ax, world, e_features, **style)\n",
    "fig.colorbar(p, cax=cax)\n",
    "\n",
    "ax = fig.add_subplot(122)\n",
    "ax.title.set_text('MaxEnt Feature Expectation')\n",
    "divider = make_axes_locatable(ax)\n",
    "cax = divider.append_axes('right', size='5%', pad=0.05)\n",
    "p = P.plot_state_values(ax, world, features.T.dot(e_svf), **style)\n",
    "fig.colorbar(p, cax=cax)\n",
    "\n",
    "fig.tight_layout()\n",
    "plt.show()"
   ]
  },
  {
   "cell_type": "markdown",
   "metadata": {},
   "source": [
    "## References\n",
    "\n",
    "- \\[Abbel & Ng 2004\\]: https://doi.org/10.1145/1015330.1015430\n",
    "- \\[Bishop 2006\\]: https://www.springer.com/us/book/9780387310732\n",
    "- \\[Jaynes 1957\\]: https://doi.org/10.1103/physrev.106.620\n",
    "- \\[Kivinen et. al. 1997\\]: https://doi.org/10.1006/inco.1996.2612\n",
    "- \\[Ng et al. 99\\]: https://dl.acm.org/citation.cfm?id=645528.657613\n",
    "- \\[Osa et al. 2018\\]: https://arxiv.org/abs/1811.06711\n",
    "- \\[Ziebart et al. 2008\\]: http://www.cs.cmu.edu/~bziebart/publications/maximum-entropy-inverse-reinforcement-learning.html\n",
    "- \\[Ziebart 2010\\]: https://www.cs.cmu.edu/~bziebart/publications/thesis-bziebart.pdf\n",
    "\n",
    "Note: Most of these resources are freely available."
   ]
  }
 ],
 "metadata": {
  "kernelspec": {
   "display_name": "Python 3 (ipykernel)",
   "language": "python",
   "name": "python3"
  },
  "language_info": {
   "codemirror_mode": {
    "name": "ipython",
    "version": 3
   },
   "file_extension": ".py",
   "mimetype": "text/x-python",
   "name": "python",
   "nbconvert_exporter": "python",
   "pygments_lexer": "ipython3",
   "version": "3.9.19"
  }
 },
 "nbformat": 4,
 "nbformat_minor": 4
}
